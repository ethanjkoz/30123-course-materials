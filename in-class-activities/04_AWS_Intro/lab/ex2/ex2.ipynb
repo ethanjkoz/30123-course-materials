{
 "cells": [
  {
   "cell_type": "code",
   "execution_count": 1,
   "metadata": {},
   "outputs": [],
   "source": [
    "import boto3\n",
    "import json\n",
    "#import secrets"
   ]
  },
  {
   "cell_type": "markdown",
   "metadata": {},
   "source": [
    "Note: If `boto3` gives you a credentials/permissions error, you might need to directly pass in the security keys when instantiating the clients. As a general programming best practice, you can create a `secrets.py` file with your security keys defined there, add it to your `.gitignore`, and avoid sharing it. \n",
    "\n",
    "Remember that these credentials change every 4 hours or when AWS Learner Lab is refreshed."
   ]
  },
  {
   "cell_type": "markdown",
   "metadata": {},
   "source": [
    "## Lambda Functions"
   ]
  },
  {
   "cell_type": "code",
   "execution_count": 2,
   "metadata": {},
   "outputs": [],
   "source": [
    "# aws_lambda = boto3.client('lambda') ## Try this first, if it doesn't work then pass in your security keys\n",
    "\n",
    "aws_lambda = boto3.client('lambda',\n",
    "                          aws_access_key_id='asdfasdf',#secrets.AWS_ACCESS_KEY,\n",
    "                          aws_secret_access_key='asdfsadf',#secrets.AWS_SECRET_KEY,\n",
    "                          aws_session_token='asdfsadf',#secrets.AWS_SESSION_TOKEN\n",
    "                        )\n",
    "iam_client = boto3.client('iam',\n",
    "                          aws_access_key_id='asdfasdf',#secrets.AWS_ACCESS_KEY,\n",
    "                          aws_secret_access_key='asdfasdf',#secrets.AWS_SECRET_KEY,\n",
    "                          aws_session_token='asdfasdf',#secrets.AWS_SESSION_TOKEN\n",
    "                        )\n",
    "role = iam_client.get_role(RoleName='LabRole')"
   ]
  },
  {
   "cell_type": "code",
   "execution_count": 3,
   "metadata": {},
   "outputs": [],
   "source": [
    "# First we zip up the lambda function (and any dependencies required), and read it in here\n",
    "with open('lambda_func.zip', 'rb') as f:\n",
    "    lambda_zip = f.read()"
   ]
  },
  {
   "cell_type": "code",
   "execution_count": 4,
   "metadata": {},
   "outputs": [
    {
     "data": {
      "text/plain": [
       "'arn:aws:lambda:us-east-1:348752177325:function:test2'"
      ]
     },
     "execution_count": 4,
     "metadata": {},
     "output_type": "execute_result"
    }
   ],
   "source": [
    "# Create a new Lambda function in AWS, or update it based on the zip\n",
    "try:\n",
    "    response = aws_lambda.create_function(\n",
    "        FunctionName='test2',\n",
    "        Runtime='python3.11',\n",
    "        Role=role['Role']['Arn'],\n",
    "        Handler='lambda_func.lambda_handler',\n",
    "        Code=dict(ZipFile=lambda_zip),\n",
    "        Timeout=300\n",
    "    )\n",
    "except aws_lambda.exceptions.ResourceConflictException:\n",
    "    response = aws_lambda.update_function_code(\n",
    "        FunctionName='test2',\n",
    "        ZipFile=lambda_zip\n",
    "        )\n",
    "\n",
    "lambda_arn = response['FunctionArn']\n",
    "lambda_arn"
   ]
  },
  {
   "cell_type": "code",
   "execution_count": 5,
   "metadata": {},
   "outputs": [
    {
     "data": {
      "text/plain": [
       "{'statusCode': 200,\n",
       " 'body': [2,\n",
       "  3,\n",
       "  5,\n",
       "  7,\n",
       "  11,\n",
       "  13,\n",
       "  17,\n",
       "  19,\n",
       "  23,\n",
       "  29,\n",
       "  31,\n",
       "  37,\n",
       "  41,\n",
       "  43,\n",
       "  47,\n",
       "  53,\n",
       "  59,\n",
       "  61,\n",
       "  67,\n",
       "  71,\n",
       "  73,\n",
       "  79,\n",
       "  83,\n",
       "  89,\n",
       "  97,\n",
       "  101,\n",
       "  103,\n",
       "  107,\n",
       "  109,\n",
       "  113,\n",
       "  127,\n",
       "  131,\n",
       "  137,\n",
       "  139,\n",
       "  149,\n",
       "  151,\n",
       "  157,\n",
       "  163,\n",
       "  167,\n",
       "  173,\n",
       "  179,\n",
       "  181,\n",
       "  191,\n",
       "  193,\n",
       "  197,\n",
       "  199]}"
      ]
     },
     "execution_count": 5,
     "metadata": {},
     "output_type": "execute_result"
    }
   ],
   "source": [
    "event = json.dumps({'N':200}) # This is the input to the Lambda function\n",
    "\n",
    "# We now trigger the Lambda function by manually invoking it\n",
    "r = aws_lambda.invoke(FunctionName='test2',\n",
    "                      InvocationType='RequestResponse',\n",
    "                      Payload=event)\n",
    "json.loads(r['Payload'].read())"
   ]
  },
  {
   "cell_type": "markdown",
   "metadata": {},
   "source": [
    "## Step Functions"
   ]
  },
  {
   "cell_type": "code",
   "execution_count": 6,
   "metadata": {},
   "outputs": [],
   "source": [
    "# This creates a Step Function which orchestrates more complicated workflows\n",
    "## In this case, it runs multiple Lambda functions in parallel\n",
    "sfn = boto3.client('stepfunctions',\n",
    "                   aws_access_key_id='asdfasdf',#secrets.AWS_ACCESS_KEY,\n",
    "                   aws_secret_access_key='asdfasdf',#secrets.AWS_SECRET_KEY,\n",
    "                   aws_session_token='asdfasdf',#secrets.AWS_SESSION_TOKEN\n",
    "                   )\n",
    "\n",
    "def make_def(lambda_arn):\n",
    "    definition = {\n",
    "      \"Comment\": \"My State Machine\",\n",
    "      \"StartAt\": \"Map\",\n",
    "      \"States\": {\n",
    "        \"Map\": {\n",
    "          \"Type\": \"Map\",\n",
    "          \"End\": True,\n",
    "          \"Iterator\": {\n",
    "            \"StartAt\": \"Lambda Invoke\",\n",
    "            \"States\": {\n",
    "              \"Lambda Invoke\": {\n",
    "                \"Type\": \"Task\",\n",
    "                \"Resource\": \"arn:aws:states:::lambda:invoke\",\n",
    "                \"OutputPath\": \"$.Payload\",\n",
    "                \"Parameters\": {\n",
    "                  \"Payload.$\": \"$\",\n",
    "                  \"FunctionName\": lambda_arn\n",
    "                },\n",
    "                \"Retry\": [\n",
    "                  {\n",
    "                    \"ErrorEquals\": [\n",
    "                      \"Lambda.ServiceException\",\n",
    "                      \"Lambda.AWSLambdaException\",\n",
    "                      \"Lambda.SdkClientException\",\n",
    "                      \"Lambda.TooManyRequestsException\",\n",
    "                      \"States.TaskFailed\"\n",
    "                    ],\n",
    "                    \"IntervalSeconds\": 2,\n",
    "                    \"MaxAttempts\": 6,\n",
    "                    \"BackoffRate\": 2\n",
    "                  }\n",
    "                ],\n",
    "                \"End\": True\n",
    "              }\n",
    "            }\n",
    "          }\n",
    "        }\n",
    "      }\n",
    "    }\n",
    "    return definition"
   ]
  },
  {
   "cell_type": "code",
   "execution_count": 7,
   "metadata": {},
   "outputs": [],
   "source": [
    "sf_def = make_def(lambda_arn)\n",
    "\n",
    "# Create new State machine\n",
    "try:\n",
    "    response = sfn.create_state_machine(\n",
    "        name='test_step_machine',\n",
    "        definition=json.dumps(sf_def),\n",
    "        roleArn=role['Role']['Arn'],\n",
    "        type='EXPRESS'\n",
    "    )\n",
    "except sfn.exceptions.StateMachineAlreadyExists:\n",
    "    response = sfn.list_state_machines()\n",
    "    state_machine_arn = [sm['stateMachineArn'] \n",
    "                         for sm in response['stateMachines'] \n",
    "                         if sm['name'] == 'test_step_machine'][0]\n",
    "    response = sfn.update_state_machine(\n",
    "        stateMachineArn=state_machine_arn,\n",
    "        definition=json.dumps(sf_def),\n",
    "        roleArn=role['Role']['Arn']\n",
    "    )"
   ]
  },
  {
   "cell_type": "code",
   "execution_count": 8,
   "metadata": {},
   "outputs": [
    {
     "data": {
      "text/plain": [
       "{'stateMachines': [{'stateMachineArn': 'arn:aws:states:us-east-1:348752177325:stateMachine:test_step_machine',\n",
       "   'name': 'test_step_machine',\n",
       "   'type': 'EXPRESS',\n",
       "   'creationDate': datetime.datetime(2024, 4, 12, 2, 23, 13, 473000, tzinfo=tzlocal())}],\n",
       " 'ResponseMetadata': {'RequestId': '9f98d0b2-edff-48c4-8583-e25353ff32b4',\n",
       "  'HTTPStatusCode': 200,\n",
       "  'HTTPHeaders': {'x-amzn-requestid': '9f98d0b2-edff-48c4-8583-e25353ff32b4',\n",
       "   'date': 'Fri, 12 Apr 2024 07:23:18 GMT',\n",
       "   'content-type': 'application/x-amz-json-1.0',\n",
       "   'content-length': '186',\n",
       "   'connection': 'keep-alive'},\n",
       "  'RetryAttempts': 0}}"
      ]
     },
     "execution_count": 8,
     "metadata": {},
     "output_type": "execute_result"
    }
   ],
   "source": [
    "response = sfn.list_state_machines()\n",
    "response"
   ]
  },
  {
   "cell_type": "code",
   "execution_count": 9,
   "metadata": {},
   "outputs": [
    {
     "name": "stdout",
     "output_type": "stream",
     "text": [
      "[{\"statusCode\":200,\"body\":[2,3,5,7]},{\"statusCode\":200,\"body\":[2,3,5,7,11,13,17,19,23]},{\"statusCode\":200,\"body\":[2,3,5,7,11,13,17,19,23,29,31]}]\n"
     ]
    }
   ],
   "source": [
    "state_machine_arn = [sm['stateMachineArn'] \n",
    "                     for sm in response['stateMachines'] \n",
    "                     if sm['name'] == 'test_step_machine'][0]\n",
    "\n",
    "# Call Lambda functions 3 times in parallel\n",
    "## Note: See Jon's post on Ed - DO NOT USE MORE THAN 10 LAMBDA FUNCTIONS IN PARALLEL\n",
    "data = [{\"N\": i} for i in [10,29,34]]\n",
    "\n",
    "sfn_response = sfn.start_sync_execution(\n",
    "    stateMachineArn=state_machine_arn,\n",
    "    name='sync_test',\n",
    "    input=json.dumps(data)\n",
    ")\n",
    "\n",
    "print(sfn_response['output'])"
   ]
  }
 ],
 "metadata": {
  "kernelspec": {
   "display_name": "macs30123",
   "language": "python",
   "name": "python3"
  },
  "language_info": {
   "codemirror_mode": {
    "name": "ipython",
    "version": 3
   },
   "file_extension": ".py",
   "mimetype": "text/x-python",
   "name": "python",
   "nbconvert_exporter": "python",
   "pygments_lexer": "ipython3",
   "version": "3.9.19"
  }
 },
 "nbformat": 4,
 "nbformat_minor": 2
}
