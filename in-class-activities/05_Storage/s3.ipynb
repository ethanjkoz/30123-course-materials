{
 "cells": [
  {
   "cell_type": "markdown",
   "metadata": {},
   "source": [
    "# Working with Large Data Sources in S3\n",
    "\n",
    "Today we're going to be working with two large public datasets that are hosted in S3: the [NYC Taxi dataset](https://registry.opendata.aws/nyc-tlc-trip-records-pds/) and [GDELT](https://registry.opendata.aws/gdelt/). We could theoretically download this data and work with it locally, but it is enormous and it is not practical to query and subset it on a local machine. It makes sense to work with the data in the AWS cloud, where it already lives. To this end, we will use Python's `boto3` library to run AWS Athena and S3 Select resources. With these resources, we can begin to access and understand these large datasets in a serverless capacity, without needing to set up database servers. We'll explore formal large-scale database solutions on Wednesday and further methods for analyzing and fitting models on large-scale data in Weeks 7 and 8 when we learn more about Spark and Dask, but this should whet your appetite and help you see how you can use `boto3` to do large-scale cloud computing tasks within a Jupyter notebook.\n",
    "\n",
    "If you haven't already, please install the `boto3` package (this can be achieved by running `pip install boto3`). The package will allow you to work with AWS resources using the credentials you have provided as a part of your AWS CLI configuration. So, you should confirm that these credentials are correct (recall that your AWS Academy session token changes every 4 hours) in order to ensure the code runs.\n",
    "\n",
    "Note: In S24, there also seems to be an error for recent `boto3` installations in instantiating the S3 client. This can fixed by downgrading the package s3transfer via:\n",
    "\n",
    "```bash\n",
    "pip install s3transfer==0.8.1\n",
    "```"
   ]
  },
  {
   "cell_type": "code",
   "execution_count": 1,
   "metadata": {},
   "outputs": [],
   "source": [
    "import boto3\n",
    "import time\n",
    "import pandas as pd"
   ]
  },
  {
   "cell_type": "markdown",
   "metadata": {},
   "source": [
    "First, let's initialize our S3 resource via Boto3."
   ]
  },
  {
   "cell_type": "code",
   "execution_count": 2,
   "metadata": {},
   "outputs": [],
   "source": [
    "s3 = boto3.client('s3')\n",
    "s3_resource = boto3.resource('s3')"
   ]
  },
  {
   "cell_type": "markdown",
   "metadata": {},
   "source": [
    "And we can identify data that fits particular criteria within an S3 bucket by cycling through all the objects within the bucket. Here, we identify files that record Yellow Cab data from 2019:"
   ]
  },
  {
   "cell_type": "code",
   "execution_count": 3,
   "metadata": {},
   "outputs": [
    {
     "data": {
      "text/plain": [
       "['csv_backup/yellow_tripdata_2019-01.csv',\n",
       " 'csv_backup/yellow_tripdata_2019-02.csv',\n",
       " 'csv_backup/yellow_tripdata_2019-03.csv',\n",
       " 'csv_backup/yellow_tripdata_2019-04.csv',\n",
       " 'csv_backup/yellow_tripdata_2019-05.csv',\n",
       " 'csv_backup/yellow_tripdata_2019-06.csv',\n",
       " 'csv_backup/yellow_tripdata_2019-07.csv',\n",
       " 'csv_backup/yellow_tripdata_2019-08.csv',\n",
       " 'csv_backup/yellow_tripdata_2019-09.csv',\n",
       " 'csv_backup/yellow_tripdata_2019-10.csv',\n",
       " 'csv_backup/yellow_tripdata_2019-11.csv',\n",
       " 'csv_backup/yellow_tripdata_2019-12.csv',\n",
       " 'trip data/yellow_tripdata_2019-01.parquet',\n",
       " 'trip data/yellow_tripdata_2019-02.parquet',\n",
       " 'trip data/yellow_tripdata_2019-03.parquet',\n",
       " 'trip data/yellow_tripdata_2019-04.parquet',\n",
       " 'trip data/yellow_tripdata_2019-05.parquet',\n",
       " 'trip data/yellow_tripdata_2019-06.parquet',\n",
       " 'trip data/yellow_tripdata_2019-07.parquet',\n",
       " 'trip data/yellow_tripdata_2019-08.parquet',\n",
       " 'trip data/yellow_tripdata_2019-09.parquet',\n",
       " 'trip data/yellow_tripdata_2019-10.parquet',\n",
       " 'trip data/yellow_tripdata_2019-11.parquet',\n",
       " 'trip data/yellow_tripdata_2019-12.parquet']"
      ]
     },
     "execution_count": 3,
     "metadata": {},
     "output_type": "execute_result"
    }
   ],
   "source": [
    "bucket = 'nyc-tlc'\n",
    "bucket_resource = s3_resource.Bucket(bucket)\n",
    "[obj.key for obj in bucket_resource.objects.all() if '2019' in obj.key and 'yellow' in obj.key]\n",
    "# note both CSVs and Parquet files -- for now will work with CSV, but will see a lot of Parquet later in the course"
   ]
  },
  {
   "cell_type": "markdown",
   "metadata": {},
   "source": [
    "So, we seem to have a number of files that fit this criteria. How do we actually see what's inside these files and begin to analyze it? First of all, we could assess the general content of a file by previewing the file. For instance, we could generate a url for the file in S3 and read only a subset of the file's rows into a Pandas DataFrame. You'll notice, though, that this takes a while to run. This strategy will not scale up very well for downloading large amounts of data locally."
   ]
  },
  {
   "cell_type": "code",
   "execution_count": 5,
   "metadata": {},
   "outputs": [
    {
     "name": "stdout",
     "output_type": "stream",
     "text": [
      "65.99387383460999 seconds\n"
     ]
    },
    {
     "data": {
      "text/html": [
       "<div>\n",
       "<style scoped>\n",
       "    .dataframe tbody tr th:only-of-type {\n",
       "        vertical-align: middle;\n",
       "    }\n",
       "\n",
       "    .dataframe tbody tr th {\n",
       "        vertical-align: top;\n",
       "    }\n",
       "\n",
       "    .dataframe thead th {\n",
       "        text-align: right;\n",
       "    }\n",
       "</style>\n",
       "<table border=\"1\" class=\"dataframe\">\n",
       "  <thead>\n",
       "    <tr style=\"text-align: right;\">\n",
       "      <th></th>\n",
       "      <th>VendorID</th>\n",
       "      <th>tpep_pickup_datetime</th>\n",
       "      <th>tpep_dropoff_datetime</th>\n",
       "      <th>passenger_count</th>\n",
       "      <th>trip_distance</th>\n",
       "      <th>RatecodeID</th>\n",
       "      <th>store_and_fwd_flag</th>\n",
       "      <th>PULocationID</th>\n",
       "      <th>DOLocationID</th>\n",
       "      <th>payment_type</th>\n",
       "      <th>fare_amount</th>\n",
       "      <th>extra</th>\n",
       "      <th>mta_tax</th>\n",
       "      <th>tip_amount</th>\n",
       "      <th>tolls_amount</th>\n",
       "      <th>improvement_surcharge</th>\n",
       "      <th>total_amount</th>\n",
       "      <th>congestion_surcharge</th>\n",
       "    </tr>\n",
       "  </thead>\n",
       "  <tbody>\n",
       "    <tr>\n",
       "      <th>0</th>\n",
       "      <td>1</td>\n",
       "      <td>2019-12-01 00:26:58</td>\n",
       "      <td>2019-12-01 00:41:45</td>\n",
       "      <td>1</td>\n",
       "      <td>4.2</td>\n",
       "      <td>1</td>\n",
       "      <td>N</td>\n",
       "      <td>142</td>\n",
       "      <td>116</td>\n",
       "      <td>2</td>\n",
       "      <td>14.5</td>\n",
       "      <td>3.0</td>\n",
       "      <td>0.5</td>\n",
       "      <td>0.0</td>\n",
       "      <td>0</td>\n",
       "      <td>0.3</td>\n",
       "      <td>18.3</td>\n",
       "      <td>2.5</td>\n",
       "    </tr>\n",
       "    <tr>\n",
       "      <th>1</th>\n",
       "      <td>1</td>\n",
       "      <td>2019-12-01 00:12:08</td>\n",
       "      <td>2019-12-01 00:12:14</td>\n",
       "      <td>1</td>\n",
       "      <td>0.0</td>\n",
       "      <td>1</td>\n",
       "      <td>N</td>\n",
       "      <td>145</td>\n",
       "      <td>145</td>\n",
       "      <td>2</td>\n",
       "      <td>2.5</td>\n",
       "      <td>0.5</td>\n",
       "      <td>0.5</td>\n",
       "      <td>0.0</td>\n",
       "      <td>0</td>\n",
       "      <td>0.3</td>\n",
       "      <td>3.8</td>\n",
       "      <td>0.0</td>\n",
       "    </tr>\n",
       "    <tr>\n",
       "      <th>2</th>\n",
       "      <td>1</td>\n",
       "      <td>2019-12-01 00:25:53</td>\n",
       "      <td>2019-12-01 00:26:04</td>\n",
       "      <td>1</td>\n",
       "      <td>0.0</td>\n",
       "      <td>1</td>\n",
       "      <td>N</td>\n",
       "      <td>145</td>\n",
       "      <td>145</td>\n",
       "      <td>2</td>\n",
       "      <td>2.5</td>\n",
       "      <td>0.5</td>\n",
       "      <td>0.5</td>\n",
       "      <td>0.0</td>\n",
       "      <td>0</td>\n",
       "      <td>0.3</td>\n",
       "      <td>3.8</td>\n",
       "      <td>0.0</td>\n",
       "    </tr>\n",
       "    <tr>\n",
       "      <th>3</th>\n",
       "      <td>1</td>\n",
       "      <td>2019-12-01 00:12:03</td>\n",
       "      <td>2019-12-01 00:33:19</td>\n",
       "      <td>2</td>\n",
       "      <td>9.4</td>\n",
       "      <td>1</td>\n",
       "      <td>N</td>\n",
       "      <td>138</td>\n",
       "      <td>25</td>\n",
       "      <td>1</td>\n",
       "      <td>28.5</td>\n",
       "      <td>0.5</td>\n",
       "      <td>0.5</td>\n",
       "      <td>10.0</td>\n",
       "      <td>0</td>\n",
       "      <td>0.3</td>\n",
       "      <td>39.8</td>\n",
       "      <td>0.0</td>\n",
       "    </tr>\n",
       "    <tr>\n",
       "      <th>4</th>\n",
       "      <td>1</td>\n",
       "      <td>2019-12-01 00:05:27</td>\n",
       "      <td>2019-12-01 00:16:32</td>\n",
       "      <td>2</td>\n",
       "      <td>1.6</td>\n",
       "      <td>1</td>\n",
       "      <td>N</td>\n",
       "      <td>161</td>\n",
       "      <td>237</td>\n",
       "      <td>2</td>\n",
       "      <td>9.0</td>\n",
       "      <td>3.0</td>\n",
       "      <td>0.5</td>\n",
       "      <td>0.0</td>\n",
       "      <td>0</td>\n",
       "      <td>0.3</td>\n",
       "      <td>12.8</td>\n",
       "      <td>2.5</td>\n",
       "    </tr>\n",
       "  </tbody>\n",
       "</table>\n",
       "</div>"
      ],
      "text/plain": [
       "   VendorID tpep_pickup_datetime tpep_dropoff_datetime  passenger_count  \\\n",
       "0         1  2019-12-01 00:26:58   2019-12-01 00:41:45                1   \n",
       "1         1  2019-12-01 00:12:08   2019-12-01 00:12:14                1   \n",
       "2         1  2019-12-01 00:25:53   2019-12-01 00:26:04                1   \n",
       "3         1  2019-12-01 00:12:03   2019-12-01 00:33:19                2   \n",
       "4         1  2019-12-01 00:05:27   2019-12-01 00:16:32                2   \n",
       "\n",
       "   trip_distance  RatecodeID store_and_fwd_flag  PULocationID  DOLocationID  \\\n",
       "0            4.2           1                  N           142           116   \n",
       "1            0.0           1                  N           145           145   \n",
       "2            0.0           1                  N           145           145   \n",
       "3            9.4           1                  N           138            25   \n",
       "4            1.6           1                  N           161           237   \n",
       "\n",
       "   payment_type  fare_amount  extra  mta_tax  tip_amount  tolls_amount  \\\n",
       "0             2         14.5    3.0      0.5         0.0             0   \n",
       "1             2          2.5    0.5      0.5         0.0             0   \n",
       "2             2          2.5    0.5      0.5         0.0             0   \n",
       "3             1         28.5    0.5      0.5        10.0             0   \n",
       "4             2          9.0    3.0      0.5         0.0             0   \n",
       "\n",
       "   improvement_surcharge  total_amount  congestion_surcharge  \n",
       "0                    0.3          18.3                   2.5  \n",
       "1                    0.3           3.8                   0.0  \n",
       "2                    0.3           3.8                   0.0  \n",
       "3                    0.3          39.8                   0.0  \n",
       "4                    0.3          12.8                   2.5  "
      ]
     },
     "execution_count": 5,
     "metadata": {},
     "output_type": "execute_result"
    }
   ],
   "source": [
    "def s3_csv_preview(bucket, key, rows=10):\n",
    "    '''\n",
    "    Preview CSV in S3 Bucket as Pandas DataFrame\n",
    "    '''\n",
    "    data_source = {\n",
    "            'Bucket': bucket,\n",
    "            'Key': key\n",
    "    }\n",
    "\n",
    "    url = s3.generate_presigned_url(ClientMethod='get_object',\n",
    "                                    Params=data_source)\n",
    "\n",
    "    data = pd.read_csv(url, nrows=rows)\n",
    "    return data\n",
    "\n",
    "t0 = time.time()\n",
    "df = s3_csv_preview(bucket='nyc-tlc',\n",
    "                    key='csv_backup/yellow_tripdata_2019-12.csv',\n",
    "                    rows=10)\n",
    "print(time.time() - t0, 'seconds')\n",
    "\n",
    "df.head()"
   ]
  },
  {
   "cell_type": "markdown",
   "metadata": {},
   "source": [
    "Alternatively, we might use S3 Select (via Boto3) to gather only a subset of the data that meets the criteria we're interested in. S3 Select is a serverless approach, which effectively spins up compute cores for us, searches for particular criteria in parallel, and then returns the results of the search to our local machine.\n",
    "\n",
    "As a demonstration, let's select 100 passenger_count and trip_distance datapoints, where the number of passengers in the cab was greater than 3. \n",
    "\n",
    "You'll notice that S3 Select uses SQL syntax to specify this subset of data (if you need a SQL refresher, take a look at the [SQL courses on DataCamp](https://www.datacamp.com/courses/introduction-to-sql) for a quick look at the basics).\n",
    "\n",
    "If we run our S3 Select query and save the result into a DataFrame, we can see that it took a lot less time to use S3 Select than our preview function above."
   ]
  },
  {
   "cell_type": "code",
   "execution_count": 6,
   "metadata": {
    "scrolled": false
   },
   "outputs": [
    {
     "name": "stdout",
     "output_type": "stream",
     "text": [
      "0.36039090156555176 seconds\n"
     ]
    },
    {
     "data": {
      "text/html": [
       "<div>\n",
       "<style scoped>\n",
       "    .dataframe tbody tr th:only-of-type {\n",
       "        vertical-align: middle;\n",
       "    }\n",
       "\n",
       "    .dataframe tbody tr th {\n",
       "        vertical-align: top;\n",
       "    }\n",
       "\n",
       "    .dataframe thead th {\n",
       "        text-align: right;\n",
       "    }\n",
       "</style>\n",
       "<table border=\"1\" class=\"dataframe\">\n",
       "  <thead>\n",
       "    <tr style=\"text-align: right;\">\n",
       "      <th></th>\n",
       "      <th>passenger_count</th>\n",
       "      <th>trip_distance</th>\n",
       "    </tr>\n",
       "  </thead>\n",
       "  <tbody>\n",
       "    <tr>\n",
       "      <th>0</th>\n",
       "      <td>5</td>\n",
       "      <td>19.98</td>\n",
       "    </tr>\n",
       "    <tr>\n",
       "      <th>1</th>\n",
       "      <td>4</td>\n",
       "      <td>0.80</td>\n",
       "    </tr>\n",
       "    <tr>\n",
       "      <th>2</th>\n",
       "      <td>4</td>\n",
       "      <td>2.60</td>\n",
       "    </tr>\n",
       "    <tr>\n",
       "      <th>3</th>\n",
       "      <td>4</td>\n",
       "      <td>0.90</td>\n",
       "    </tr>\n",
       "    <tr>\n",
       "      <th>4</th>\n",
       "      <td>5</td>\n",
       "      <td>16.53</td>\n",
       "    </tr>\n",
       "    <tr>\n",
       "      <th>...</th>\n",
       "      <td>...</td>\n",
       "      <td>...</td>\n",
       "    </tr>\n",
       "    <tr>\n",
       "      <th>95</th>\n",
       "      <td>5</td>\n",
       "      <td>0.63</td>\n",
       "    </tr>\n",
       "    <tr>\n",
       "      <th>96</th>\n",
       "      <td>5</td>\n",
       "      <td>6.27</td>\n",
       "    </tr>\n",
       "    <tr>\n",
       "      <th>97</th>\n",
       "      <td>6</td>\n",
       "      <td>0.92</td>\n",
       "    </tr>\n",
       "    <tr>\n",
       "      <th>98</th>\n",
       "      <td>5</td>\n",
       "      <td>1.21</td>\n",
       "    </tr>\n",
       "    <tr>\n",
       "      <th>99</th>\n",
       "      <td>5</td>\n",
       "      <td>2.83</td>\n",
       "    </tr>\n",
       "  </tbody>\n",
       "</table>\n",
       "<p>100 rows × 2 columns</p>\n",
       "</div>"
      ],
      "text/plain": [
       "    passenger_count  trip_distance\n",
       "0                 5          19.98\n",
       "1                 4           0.80\n",
       "2                 4           2.60\n",
       "3                 4           0.90\n",
       "4                 5          16.53\n",
       "..              ...            ...\n",
       "95                5           0.63\n",
       "96                5           6.27\n",
       "97                6           0.92\n",
       "98                5           1.21\n",
       "99                5           2.83\n",
       "\n",
       "[100 rows x 2 columns]"
      ]
     },
     "execution_count": 6,
     "metadata": {},
     "output_type": "execute_result"
    }
   ],
   "source": [
    "import io\n",
    "\n",
    "def s3_select(Bucket, Key, Expression):\n",
    "    s3_select_results = s3.select_object_content(\n",
    "        Bucket=Bucket,\n",
    "        Key=Key,\n",
    "        Expression=Expression,\n",
    "        ExpressionType='SQL',\n",
    "        InputSerialization={'CSV': {\"FileHeaderInfo\": \"Use\"}},\n",
    "        OutputSerialization={'JSON': {}})\n",
    "    \n",
    "    df = pd.DataFrame()\n",
    "    for event in s3_select_results['Payload']:\n",
    "        if 'Records' in event:\n",
    "            df = pd.read_json(io.StringIO(event['Records']['Payload'].decode('utf-8')),\n",
    "                              lines=True)\n",
    "    return df\n",
    "\n",
    "t0 = time.time()\n",
    "df = s3_select(Bucket='nyc-tlc', \n",
    "               Key='csv_backup/yellow_tripdata_2019-12.csv',\n",
    "               Expression='''\n",
    "                          SELECT passenger_count, trip_distance\n",
    "                          FROM s3object s\n",
    "                          WHERE s.passenger_count > '3'\n",
    "                          LIMIT 100\n",
    "                          '''\n",
    ")\n",
    "print(time.time() - t0, 'seconds')\n",
    "df"
   ]
  },
  {
   "cell_type": "markdown",
   "metadata": {},
   "source": [
    "Then, with this subset of data, we can use our standard Pandas tools to calculate summary statistics and make plots."
   ]
  },
  {
   "cell_type": "code",
   "execution_count": 7,
   "metadata": {},
   "outputs": [
    {
     "data": {
      "text/html": [
       "<div>\n",
       "<style scoped>\n",
       "    .dataframe tbody tr th:only-of-type {\n",
       "        vertical-align: middle;\n",
       "    }\n",
       "\n",
       "    .dataframe tbody tr th {\n",
       "        vertical-align: top;\n",
       "    }\n",
       "\n",
       "    .dataframe thead tr th {\n",
       "        text-align: left;\n",
       "    }\n",
       "\n",
       "    .dataframe thead tr:last-of-type th {\n",
       "        text-align: right;\n",
       "    }\n",
       "</style>\n",
       "<table border=\"1\" class=\"dataframe\">\n",
       "  <thead>\n",
       "    <tr>\n",
       "      <th></th>\n",
       "      <th colspan=\"8\" halign=\"left\">trip_distance</th>\n",
       "    </tr>\n",
       "    <tr>\n",
       "      <th></th>\n",
       "      <th>count</th>\n",
       "      <th>mean</th>\n",
       "      <th>std</th>\n",
       "      <th>min</th>\n",
       "      <th>25%</th>\n",
       "      <th>50%</th>\n",
       "      <th>75%</th>\n",
       "      <th>max</th>\n",
       "    </tr>\n",
       "    <tr>\n",
       "      <th>passenger_count</th>\n",
       "      <th></th>\n",
       "      <th></th>\n",
       "      <th></th>\n",
       "      <th></th>\n",
       "      <th></th>\n",
       "      <th></th>\n",
       "      <th></th>\n",
       "      <th></th>\n",
       "    </tr>\n",
       "  </thead>\n",
       "  <tbody>\n",
       "    <tr>\n",
       "      <th>4</th>\n",
       "      <td>39.0</td>\n",
       "      <td>4.234103</td>\n",
       "      <td>4.863248</td>\n",
       "      <td>0.00</td>\n",
       "      <td>0.850</td>\n",
       "      <td>2.180</td>\n",
       "      <td>6.180</td>\n",
       "      <td>21.00</td>\n",
       "    </tr>\n",
       "    <tr>\n",
       "      <th>5</th>\n",
       "      <td>40.0</td>\n",
       "      <td>3.459500</td>\n",
       "      <td>3.934379</td>\n",
       "      <td>0.16</td>\n",
       "      <td>1.515</td>\n",
       "      <td>2.085</td>\n",
       "      <td>4.255</td>\n",
       "      <td>19.98</td>\n",
       "    </tr>\n",
       "    <tr>\n",
       "      <th>6</th>\n",
       "      <td>21.0</td>\n",
       "      <td>1.957143</td>\n",
       "      <td>1.187287</td>\n",
       "      <td>0.74</td>\n",
       "      <td>1.070</td>\n",
       "      <td>1.640</td>\n",
       "      <td>2.570</td>\n",
       "      <td>5.37</td>\n",
       "    </tr>\n",
       "  </tbody>\n",
       "</table>\n",
       "</div>"
      ],
      "text/plain": [
       "                trip_distance                                                 \\\n",
       "                        count      mean       std   min    25%    50%    75%   \n",
       "passenger_count                                                                \n",
       "4                        39.0  4.234103  4.863248  0.00  0.850  2.180  6.180   \n",
       "5                        40.0  3.459500  3.934379  0.16  1.515  2.085  4.255   \n",
       "6                        21.0  1.957143  1.187287  0.74  1.070  1.640  2.570   \n",
       "\n",
       "                        \n",
       "                   max  \n",
       "passenger_count         \n",
       "4                21.00  \n",
       "5                19.98  \n",
       "6                 5.37  "
      ]
     },
     "execution_count": 7,
     "metadata": {},
     "output_type": "execute_result"
    }
   ],
   "source": [
    "(df.groupby('passenger_count')\n",
    "   .describe()\n",
    ")"
   ]
  },
  {
   "cell_type": "code",
   "execution_count": 8,
   "metadata": {},
   "outputs": [
    {
     "data": {
      "image/png": "[encoded data removed]",
      "text/plain": [
       "<Figure size 640x480 with 1 Axes>"
      ]
     },
     "metadata": {},
     "output_type": "display_data"
    }
   ],
   "source": [
    "(df.groupby('passenger_count').count()\n",
    "                              .plot\n",
    "                              .bar(legend=True,\n",
    "                                   title='12/2019 Yellow Cab Rides for > 3 Passengers (Selection)')\n",
    ");"
   ]
  },
  {
   "cell_type": "markdown",
   "metadata": {},
   "source": [
    "One limitation to S3 Select, though, is that it can only search over and return a limited amount of data at one time. If you have larger queries you would like to perform (i.e. over many gigabytes or terabytes of data) on data in an S3 bucket, it would be better to use AWS Athena, which you can also access via the Boto3 Python package. Athena additionally allows you to run queries over all of the available files in the bucket being queried (for instance, over all of the Yellow Cab CSV files in the NYC Taxi Bucket). \n",
    "\n",
    "The only catch with Athena is that, before you can run any queries, you will need to specify your data schema -- how your data is structured and the data types that are used -- so that it knows how to read the data. After you have specified this information, Athena can run standard SQL queries in a serverless fashion. Alternatively, you can also use AWS Glue crawlers to discover the schematization for you if you want to abstract the process even further. We will not be using AWS Glue today, though, and will just manually specify the schema of our data (typically, this is already by defined for AWS' public datasets and does not require too much effort).\n",
    "\n",
    "Let's transition over to another large public dataset on AWS for our work with Athena -- the Global Database of Events, Language and Tone (GDELT) Project. The project \"monitors the world’s broadcast, print, and web news from nearly every corner of every country in over 100 languages and identifies the people, locations, organizations, counts, themes, sources, emotions, quotes, images and events driving our global society every second of every day\" ([Registry of Open Data on AWS](https://registry.opendata.aws/gdelt/)).\n",
    "\n",
    "First, let's specify a function to run an Athena query using Boto3. Then, we'll establish our data's schema using the `create_db` and `create_table` queries. From here, we should be ready to begin learning more about the data itself in the GDELT bucket!"
   ]
  },
  {
   "cell_type": "code",
   "execution_count": 9,
   "metadata": {},
   "outputs": [
    {
     "name": "stdout",
     "output_type": "stream",
     "text": [
      "Executing query: CREATE DATABASE IF NOT EXISTS gdelt;\n",
      "Execution ID: 615de40c-2bb8-4747-a8ca-2a1fac812179\n",
      "QUERY SUCCEEDED\n",
      "Executing query: \n",
      "CREATE EXTERNAL TABLE IF NOT EXISTS gdelt.events (`globaleventid` INT,`day` INT,`monthyear` INT,`year` INT,`fractiondate` FLOAT,`actor1code` string,`actor1name` string,`actor1countrycode` string,`actor1knowngroupcode` string,`actor1ethniccode` string,`actor1religion1code` string,`actor1religion2code` string,`actor1type1code` string,`actor1type2code` string,`actor1type3code` string,`actor2code` string,`actor2name` string,`actor2countrycode` string,`actor2knowngroupcode` string,`actor2ethniccode` string,`actor2religion1code` string,`actor2religion2code` string,`actor2type1code` string,`actor2type2code` string,`actor2type3code` string,`isrootevent` BOOLEAN,`eventcode` string,`eventbasecode` string,`eventrootcode` string,`quadclass` INT,`goldsteinscale` FLOAT,`nummentions` INT,`numsources` INT,`numarticles` INT,`avgtone` FLOAT,`actor1geo_type` INT,`actor1geo_fullname` string,`actor1geo_countrycode` string,`actor1geo_adm1code` string,`actor1geo_lat` FLOAT,`actor1geo_long` FLOAT,`actor1geo_featureid` INT,`actor2geo_type` INT,`actor2geo_fullname` string,`actor2geo_countrycode` string,`actor2geo_adm1code` string,`actor2geo_lat` FLOAT,`actor2geo_long` FLOAT,`actor2geo_featureid` INT,`actiongeo_type` INT,`actiongeo_fullname` string,`actiongeo_countrycode` string,`actiongeo_adm1code` string,`actiongeo_lat` FLOAT,`actiongeo_long` FLOAT,`actiongeo_featureid` INT,`dateadded` INT,`sourceurl` string) ROW FORMAT SERDE 'org.apache.hadoop.hive.serde2.lazy.LazySimpleSerDe' WITH SERDEPROPERTIES ('serialization.format' = '\t','field.delim' = '\t') LOCATION 's3://gdelt-open-data/events/';\n",
      "\n",
      "Execution ID: c5cd0412-12a6-46a4-b072-05c22fd355ba\n",
      "QUERY SUCCEEDED\n"
     ]
    }
   ],
   "source": [
    "#Function for starting athena query\n",
    "def run_query(query, database, s3_output):\n",
    "    client = boto3.client('athena')\n",
    "    response = client.start_query_execution(\n",
    "        QueryString=query,\n",
    "        QueryExecutionContext={\n",
    "            'Database': database\n",
    "            },\n",
    "        ResultConfiguration={\n",
    "            'OutputLocation': s3_output,\n",
    "            }\n",
    "        )\n",
    "    print('Execution ID: ' + response['QueryExecutionId'])\n",
    "    \n",
    "    # Wait until query is done running to return response\n",
    "    running = True\n",
    "    while running:\n",
    "        execution = client.get_query_execution(QueryExecutionId=response['QueryExecutionId'])\n",
    "        execution_status = execution[\"QueryExecution\"][\"Status\"][\"State\"]\n",
    "        if execution_status == 'QUEUED' or execution_status == 'RUNNING':\n",
    "            pass\n",
    "        else:\n",
    "            running = False\n",
    "            print('QUERY', execution_status)\n",
    "    \n",
    "    return response\n",
    "\n",
    "# Athena saves the results of each query to an S3 bucket, so we need to specify this bucket:\n",
    "# You will need to choose a unique bucket name to run this yourself (e.g. not jclindaniel-athena)\n",
    "s3_output = 's3://jclindaniel-athena/'\n",
    "\n",
    "create_db = 'CREATE DATABASE IF NOT EXISTS gdelt;'\n",
    "create_table = \\\n",
    "\"\"\"\n",
    "CREATE EXTERNAL TABLE IF NOT EXISTS gdelt.events (`globaleventid` INT,`day` INT,`monthyear` INT,`year` INT,`fractiondate` FLOAT,`actor1code` string,`actor1name` string,`actor1countrycode` string,`actor1knowngroupcode` string,`actor1ethniccode` string,`actor1religion1code` string,`actor1religion2code` string,`actor1type1code` string,`actor1type2code` string,`actor1type3code` string,`actor2code` string,`actor2name` string,`actor2countrycode` string,`actor2knowngroupcode` string,`actor2ethniccode` string,`actor2religion1code` string,`actor2religion2code` string,`actor2type1code` string,`actor2type2code` string,`actor2type3code` string,`isrootevent` BOOLEAN,`eventcode` string,`eventbasecode` string,`eventrootcode` string,`quadclass` INT,`goldsteinscale` FLOAT,`nummentions` INT,`numsources` INT,`numarticles` INT,`avgtone` FLOAT,`actor1geo_type` INT,`actor1geo_fullname` string,`actor1geo_countrycode` string,`actor1geo_adm1code` string,`actor1geo_lat` FLOAT,`actor1geo_long` FLOAT,`actor1geo_featureid` INT,`actor2geo_type` INT,`actor2geo_fullname` string,`actor2geo_countrycode` string,`actor2geo_adm1code` string,`actor2geo_lat` FLOAT,`actor2geo_long` FLOAT,`actor2geo_featureid` INT,`actiongeo_type` INT,`actiongeo_fullname` string,`actiongeo_countrycode` string,`actiongeo_adm1code` string,`actiongeo_lat` FLOAT,`actiongeo_long` FLOAT,`actiongeo_featureid` INT,`dateadded` INT,`sourceurl` string) ROW FORMAT SERDE 'org.apache.hadoop.hive.serde2.lazy.LazySimpleSerDe' WITH SERDEPROPERTIES ('serialization.format' = '\\t','field.delim' = '\\t') LOCATION 's3://gdelt-open-data/events/';\n",
    "\"\"\"\n",
    "\n",
    "queries = [create_db, create_table]\n",
    "\n",
    "for q in queries:\n",
    "    print(\"Executing query: %s\" % (q))\n",
    "    res = run_query(q, 'gdelt', s3_output)"
   ]
  },
  {
   "cell_type": "markdown",
   "metadata": {},
   "source": [
    "OK, let's actually run some queries on the data in the bucket. First of all, how many events are recorded in the dataset?\n",
    "\n",
    "**Important Note: Only run the following queries once (or not at all). Athena charges by the amount of data you query (~200 GB for this dataset), and you will quickly be out of AWS credits if you run these too many times.**"
   ]
  },
  {
   "cell_type": "code",
   "execution_count": 10,
   "metadata": {},
   "outputs": [
    {
     "name": "stdout",
     "output_type": "stream",
     "text": [
      "Execution ID: 9bc95928-3281-4f24-96ca-bb761686ef5f\n",
      "QUERY SUCCEEDED\n"
     ]
    }
   ],
   "source": [
    "query = '''\n",
    "        SELECT COUNT(*) as nb_events\n",
    "        FROM gdelt.events;\n",
    "        '''\n",
    "res = run_query(query, 'gdelt', s3_output)"
   ]
  },
  {
   "cell_type": "code",
   "execution_count": 11,
   "metadata": {},
   "outputs": [
    {
     "data": {
      "text/html": [
       "<div>\n",
       "<style scoped>\n",
       "    .dataframe tbody tr th:only-of-type {\n",
       "        vertical-align: middle;\n",
       "    }\n",
       "\n",
       "    .dataframe tbody tr th {\n",
       "        vertical-align: top;\n",
       "    }\n",
       "\n",
       "    .dataframe thead th {\n",
       "        text-align: right;\n",
       "    }\n",
       "</style>\n",
       "<table border=\"1\" class=\"dataframe\">\n",
       "  <thead>\n",
       "    <tr style=\"text-align: right;\">\n",
       "      <th></th>\n",
       "      <th>nb_events</th>\n",
       "    </tr>\n",
       "  </thead>\n",
       "  <tbody>\n",
       "    <tr>\n",
       "      <th>0</th>\n",
       "      <td>596867240</td>\n",
       "    </tr>\n",
       "  </tbody>\n",
       "</table>\n",
       "</div>"
      ],
      "text/plain": [
       "   nb_events\n",
       "0  596867240"
      ]
     },
     "execution_count": 11,
     "metadata": {},
     "output_type": "execute_result"
    }
   ],
   "source": [
    "s3_csv_preview(bucket='jclindaniel-athena', key=res['QueryExecutionId']+'.csv')"
   ]
  },
  {
   "cell_type": "markdown",
   "metadata": {},
   "source": [
    "We can also select subset of our data for further analysis. Here, we count the number of events that occur each year in the dataset and plot those values once we have this subset of the data back on our local machine."
   ]
  },
  {
   "cell_type": "code",
   "execution_count": 12,
   "metadata": {},
   "outputs": [
    {
     "name": "stdout",
     "output_type": "stream",
     "text": [
      "Execution ID: ebe4c5e6-72d3-442a-acd8-774c064f404e\n",
      "QUERY SUCCEEDED\n"
     ]
    }
   ],
   "source": [
    "query = '''\n",
    "        SELECT year,\n",
    "        COUNT(globaleventid) AS nb_events\n",
    "        FROM gdelt.events\n",
    "        GROUP BY year\n",
    "        ORDER BY year ASC;\n",
    "        '''\n",
    "res = run_query(query, 'gdelt', s3_output)"
   ]
  },
  {
   "cell_type": "code",
   "execution_count": 13,
   "metadata": {},
   "outputs": [
    {
     "data": {
      "image/png": "[encoded data removed]",
      "text/plain": [
       "<Figure size 640x480 with 1 Axes>"
      ]
     },
     "metadata": {},
     "output_type": "display_data"
    }
   ],
   "source": [
    "df = s3_csv_preview(bucket='jclindaniel-athena', key=res['QueryExecutionId']+'.csv', rows=100)\n",
    "df.plot('year', 'nb_events');"
   ]
  },
  {
   "cell_type": "markdown",
   "metadata": {},
   "source": [
    "We can also, of course, write even more complicated queries, such as this one where we identify the number of events that involved \"Barack Obama\" as an actor. "
   ]
  },
  {
   "cell_type": "code",
   "execution_count": 14,
   "metadata": {},
   "outputs": [
    {
     "name": "stdout",
     "output_type": "stream",
     "text": [
      "Execution ID: 42741920-d54e-4ff8-ab19-7111990713dc\n",
      "QUERY SUCCEEDED\n"
     ]
    }
   ],
   "source": [
    "query = '''\n",
    "        SELECT year, COUNT(globaleventid) AS nb_events\n",
    "        FROM gdelt.events\n",
    "        WHERE actor1name='BARACK OBAMA'\n",
    "        GROUP BY year\n",
    "        ORDER BY year ASC;\n",
    "        '''\n",
    "res = run_query(query, 'gdelt', s3_output)"
   ]
  },
  {
   "cell_type": "code",
   "execution_count": 15,
   "metadata": {
    "scrolled": true
   },
   "outputs": [
    {
     "data": {
      "text/plain": [
       "<Axes: xlabel='year'>"
      ]
     },
     "execution_count": 15,
     "metadata": {},
     "output_type": "execute_result"
    },
    {
     "data": {
      "image/png": "[encoded data removed]",
      "text/plain": [
       "<Figure size 640x480 with 1 Axes>"
      ]
     },
     "metadata": {},
     "output_type": "display_data"
    }
   ],
   "source": [
    "df = s3_csv_preview(bucket='jclindaniel-athena', key=res['QueryExecutionId']+'.csv', rows=100)\n",
    "df.plot('year', 'nb_events')"
   ]
  },
  {
   "cell_type": "markdown",
   "metadata": {},
   "source": [
    "If you run all of these queries, you'll notice that the number of files in your S3 bucket piles pretty quickly:"
   ]
  },
  {
   "cell_type": "code",
   "execution_count": 16,
   "metadata": {},
   "outputs": [
    {
     "data": {
      "text/plain": [
       "['42741920-d54e-4ff8-ab19-7111990713dc.csv',\n",
       " '42741920-d54e-4ff8-ab19-7111990713dc.csv.metadata',\n",
       " '615de40c-2bb8-4747-a8ca-2a1fac812179.txt',\n",
       " '9bc95928-3281-4f24-96ca-bb761686ef5f.csv',\n",
       " '9bc95928-3281-4f24-96ca-bb761686ef5f.csv.metadata',\n",
       " 'c5cd0412-12a6-46a4-b072-05c22fd355ba.txt',\n",
       " 'ebe4c5e6-72d3-442a-acd8-774c064f404e.csv',\n",
       " 'ebe4c5e6-72d3-442a-acd8-774c064f404e.csv.metadata']"
      ]
     },
     "execution_count": 16,
     "metadata": {},
     "output_type": "execute_result"
    }
   ],
   "source": [
    "bucket = 'jclindaniel-athena'\n",
    "bucket_resource = s3_resource.Bucket(bucket)\n",
    "[obj.key for obj in bucket_resource.objects.all()]"
   ]
  },
  {
   "cell_type": "markdown",
   "metadata": {},
   "source": [
    "You can quickly delete all of the files in your bucket (so that you don't have to pay for them) by running the following `cleanup` function:"
   ]
  },
  {
   "cell_type": "code",
   "execution_count": 17,
   "metadata": {},
   "outputs": [],
   "source": [
    "def cleanup(bucket_name):\n",
    "    s3 = boto3.resource('s3')\n",
    "    bucket = s3.Bucket(bucket_name)\n",
    "    for item in bucket.objects.all():\n",
    "        item.delete()\n",
    "        \n",
    "cleanup('jclindaniel-athena')"
   ]
  }
 ],
 "metadata": {
  "@webio": {
   "lastCommId": null,
   "lastKernelId": null
  },
  "kernelspec": {
   "display_name": "Python 3 (ipykernel)",
   "language": "python",
   "name": "python3"
  },
  "language_info": {
   "codemirror_mode": {
    "name": "ipython",
    "version": 3
   },
   "file_extension": ".py",
   "mimetype": "text/x-python",
   "name": "python",
   "nbconvert_exporter": "python",
   "pygments_lexer": "ipython3",
   "version": "3.9.19"
  }
 },
 "nbformat": 4,
 "nbformat_minor": 4
}
