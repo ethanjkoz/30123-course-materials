{
 "cells": [
  {
   "cell_type": "markdown",
   "metadata": {},
   "source": [
    "# Week 6 Lab Session\n",
    "**MACS 30123** \\\n",
    "*Adam Wu, Wonje Yun*"
   ]
  },
  {
   "cell_type": "markdown",
   "metadata": {},
   "source": [
    "# Preliminary\n",
    "\n",
    "Start up your AWS Learner Lab, and remember to update your security keys in `~/.aws/credentials`."
   ]
  },
  {
   "cell_type": "code",
   "execution_count": 1,
   "metadata": {
    "ExecuteTime": {
     "end_time": "2024-04-25T00:45:07.132490Z",
     "start_time": "2024-04-25T00:45:06.905490Z"
    }
   },
   "outputs": [],
   "source": [
    "import boto3\n",
    "import json"
   ]
  },
  {
   "cell_type": "markdown",
   "metadata": {},
   "source": [
    "# Part I: Review of Databases"
   ]
  },
  {
   "cell_type": "markdown",
   "metadata": {
    "heading_collapsed": true
   },
   "source": [
    "## Exercise 1: S3 Databases\n",
    "\n",
    "In this exercise, let's create a new AWS S3 Bucket and practice reading/writing files to it.\n",
    "\n",
    "Recall that S3 is a \"data lake\" designed for generic storage of objects. For example you could store data, images, pre-trained models, etc. \n",
    "\n",
    "*Intuitively, you can think of a bucket on S3 as similar to Dropbox or some generic directory.*\n",
    "\n",
    "**Note: The name of the bucket has to be unique on the AWS region.**"
   ]
  },
  {
   "cell_type": "code",
   "execution_count": 4,
   "metadata": {
    "ExecuteTime": {
     "end_time": "2024-04-25T00:48:15.083376Z",
     "start_time": "2024-04-25T00:48:14.573210Z"
    },
    "hidden": true
   },
   "outputs": [
    {
     "data": {
      "text/plain": [
       "s3.Bucket(name='adam-example-bucket')"
      ]
     },
     "execution_count": 4,
     "metadata": {},
     "output_type": "execute_result"
    }
   ],
   "source": [
    "# Initialize boto3 handler\n",
    "s3 = boto3.resource('s3')\n",
    "\n",
    "# Create a new bucket to store your files\n",
    "BUCKETNAME = 'adam-example-bucket'\n",
    "s3.create_bucket(Bucket=BUCKETNAME)\n",
    "\n",
    "# This is what we will use to interface with the specific bucket\n",
    "bucket = s3.Bucket( BUCKETNAME )"
   ]
  },
  {
   "cell_type": "markdown",
   "metadata": {
    "hidden": true
   },
   "source": [
    "You can go on the AWS website and verify that a new S3 bucket has been created. \n",
    "\n",
    "There is a provided `data/1_exampledata.json` file. Let's try uploading it to your S3 bucket. \n",
    "\n",
    "*Using the Dropbox analogy, you can think of `Key` as the name of the file, and `Body` as the raw contents of the file.*"
   ]
  },
  {
   "cell_type": "code",
   "execution_count": 5,
   "metadata": {
    "ExecuteTime": {
     "end_time": "2024-04-25T00:48:32.807666Z",
     "start_time": "2024-04-25T00:48:32.224480Z"
    },
    "hidden": true
   },
   "outputs": [
    {
     "data": {
      "text/plain": [
       "s3.Object(bucket_name='adam-example-bucket', key='file1.json')"
      ]
     },
     "execution_count": 5,
     "metadata": {},
     "output_type": "execute_result"
    }
   ],
   "source": [
    "# Read in your locally stored data\n",
    "data = open('data/1_exampledata.json', 'rb')\n",
    "\n",
    "# Upload to S3\n",
    "FILENAME = 'file1.json'\n",
    "bucket.put_object(Key=FILENAME, Body=data)"
   ]
  },
  {
   "cell_type": "code",
   "execution_count": 29,
   "metadata": {
    "ExecuteTime": {
     "end_time": "2024-04-24T22:41:40.613653Z",
     "start_time": "2024-04-24T22:41:40.379590Z"
    },
    "hidden": true
   },
   "outputs": [
    {
     "name": "stdout",
     "output_type": "stream",
     "text": [
      "Keys: ['file1.json']\n"
     ]
    },
    {
     "data": {
      "text/plain": [
       "{'user_id': '0001',\n",
       " 'timestamp': '092821120000',\n",
       " 'time_elapsed': '5',\n",
       " 'q1': '5',\n",
       " 'q2': '3',\n",
       " 'q3': '2',\n",
       " 'q4': '2',\n",
       " 'q5': '4',\n",
       " 'freetext': 'I had a very bad day today...'}"
      ]
     },
     "execution_count": 29,
     "metadata": {},
     "output_type": "execute_result"
    }
   ],
   "source": [
    "# Get the keys in the bucket\n",
    "print('Keys:', [obj.key for obj in bucket.objects.all()])\n",
    "\n",
    "# Get `file1.json` from S3, parse it with json, and view it\n",
    "obj = s3.Object(BUCKETNAME, 'file1.json')\n",
    "body = json.loads(obj.get()['Body'].read())\n",
    "body"
   ]
  },
  {
   "cell_type": "markdown",
   "metadata": {
    "hidden": true
   },
   "source": [
    "S3 charges you based on how much storage you use, though it's not much. Let's try deleting the bucket now.\n",
    "\n",
    "*To delete a bucket, you must first empty the bucket by deleting everything inside it.*"
   ]
  },
  {
   "cell_type": "code",
   "execution_count": 9,
   "metadata": {
    "ExecuteTime": {
     "end_time": "2024-04-25T00:57:58.780327Z",
     "start_time": "2024-04-25T00:57:58.034428Z"
    },
    "hidden": true
   },
   "outputs": [
    {
     "name": "stdout",
     "output_type": "stream",
     "text": [
      "Keys: []\n"
     ]
    },
    {
     "data": {
      "text/plain": [
       "{'ResponseMetadata': {'RequestId': '0BNTK43WB7HYZCXR',\n",
       "  'HostId': 'mpHyPGhJqP+5pNvks18cGHfcLVdJjnZWS085gpbFw6df/gsGztcDBirzt/lgFFwVfJ7GFXYFZNY=',\n",
       "  'HTTPStatusCode': 204,\n",
       "  'HTTPHeaders': {'x-amz-id-2': 'mpHyPGhJqP+5pNvks18cGHfcLVdJjnZWS085gpbFw6df/gsGztcDBirzt/lgFFwVfJ7GFXYFZNY=',\n",
       "   'x-amz-request-id': '0BNTK43WB7HYZCXR',\n",
       "   'date': 'Thu, 25 Apr 2024 00:57:58 GMT',\n",
       "   'server': 'AmazonS3'},\n",
       "  'RetryAttempts': 0}}"
      ]
     },
     "execution_count": 9,
     "metadata": {},
     "output_type": "execute_result"
    }
   ],
   "source": [
    "# Delete each file/object in the bucket\n",
    "for obj in bucket.objects.all():\n",
    "    obj.delete()\n",
    "\n",
    "print('Keys:', [obj.key for obj in bucket.objects.all()])\n",
    "\n",
    "# Delete the bucket itself\n",
    "bucket.delete()"
   ]
  },
  {
   "cell_type": "markdown",
   "metadata": {
    "heading_collapsed": true
   },
   "source": [
    "## Exercise 2: DynamoDB Databases"
   ]
  },
  {
   "cell_type": "markdown",
   "metadata": {
    "hidden": true
   },
   "source": [
    "In this exercise, let's create a new AWS DynamoDB database and practice reading/writing files to it.\n",
    "\n",
    "Recall that DynamoDB is a \"serverless\" NoSQL database. Intuitively, you can think of DynamoDB as being distributed across multiple servers. This allows for high data availability. For example, if a traditional database hosted on a single server crashes, then you might lose your data. But this offers protection against that scenario, and also allows for it to easily scale as data increases.\n",
    "\n",
    "To create a new table, the main things you need to supply are:\n",
    " - `TableName`: Name of the table\n",
    " - `KeySchema`: Describes the primary key and/or a secondary key\n",
    " - `AttributeDefinitions`: Describes the data types of the keys\n",
    "\n",
    "It may be helpful to consult the documentation [here](https://boto3.amazonaws.com/v1/documentation/api/latest/reference/services/dynamodb/service-resource/create_table.html#DynamoDB.ServiceResource.create_table)."
   ]
  },
  {
   "cell_type": "code",
   "execution_count": 11,
   "metadata": {
    "ExecuteTime": {
     "end_time": "2024-04-25T01:25:01.398626Z",
     "start_time": "2024-04-25T01:24:40.648971Z"
    },
    "hidden": true
   },
   "outputs": [],
   "source": [
    "# Initialize boto3 handler\n",
    "ddb = boto3.resource('dynamodb')\n",
    "\n",
    "DB_NAME = 'adam_example_db'\n",
    "\n",
    "# Create a new DynamoDB Table\n",
    "try:\n",
    "    table = ddb.create_table(\n",
    "        TableName=DB_NAME,\n",
    "        KeySchema=[\n",
    "            {\n",
    "                'AttributeName': 'user_id',   # Here we define the primary key as `user_id`\n",
    "                'KeyType': 'HASH'\n",
    "            }\n",
    "        ],\n",
    "        AttributeDefinitions=[\n",
    "            {\n",
    "                'AttributeName': 'user_id',  # Now we describe what the data type of `user_id` is.\n",
    "                'AttributeType': 'S'         # In this case, a string 'S'. In other cases, 'N' = number, 'B' = binary.\n",
    "            }\n",
    "        ],\n",
    "        ProvisionedThroughput={\n",
    "            'ReadCapacityUnits': 1,          # This specifies the maximum read/write capacity. Increasing it\n",
    "            'WriteCapacityUnits': 1          # allows for it to scale, but can use up your AWS credits quickly\n",
    "        }\n",
    "    )\n",
    "    table.meta.client.get_waiter('table_exists').wait(TableName=DB_NAME)\n",
    "    \n",
    "# Use the existing one if it already exists\n",
    "except:\n",
    "    table = ddb.Table(DB_NAME)"
   ]
  },
  {
   "cell_type": "markdown",
   "metadata": {
    "ExecuteTime": {
     "end_time": "2024-04-25T01:25:14.269917Z",
     "start_time": "2024-04-25T01:25:14.263926Z"
    },
    "hidden": true
   },
   "source": [
    "Now let's try putting our `1_exampledata.json` in there."
   ]
  },
  {
   "cell_type": "code",
   "execution_count": 24,
   "metadata": {
    "ExecuteTime": {
     "end_time": "2024-04-25T01:36:18.067750Z",
     "start_time": "2024-04-25T01:36:18.049521Z"
    },
    "hidden": true
   },
   "outputs": [
    {
     "data": {
      "text/plain": [
       "{'user_id': '0001',\n",
       " 'timestamp': '092821120000',\n",
       " 'time_elapsed': '5',\n",
       " 'q1': '5',\n",
       " 'q2': '3',\n",
       " 'q3': '2',\n",
       " 'q4': '2',\n",
       " 'q5': '4',\n",
       " 'freetext': 'I had a very bad day today...'}"
      ]
     },
     "execution_count": 24,
     "metadata": {},
     "output_type": "execute_result"
    }
   ],
   "source": [
    "import json\n",
    "\n",
    "# Read in our data\n",
    "with open('data/1_exampledata.json', 'r') as f:\n",
    "    data = json.load(f)\n",
    "data"
   ]
  },
  {
   "cell_type": "code",
   "execution_count": 25,
   "metadata": {
    "ExecuteTime": {
     "end_time": "2024-04-25T01:36:45.247810Z",
     "start_time": "2024-04-25T01:36:44.783490Z"
    },
    "hidden": true
   },
   "outputs": [
    {
     "data": {
      "text/plain": [
       "{'ResponseMetadata': {'RequestId': 'QUGTMS8JBIUV3OEL3LFKR8FD3VVV4KQNSO5AEMVJF66Q9ASUAAJG',\n",
       "  'HTTPStatusCode': 200,\n",
       "  'HTTPHeaders': {'server': 'Server',\n",
       "   'date': 'Thu, 25 Apr 2024 01:36:43 GMT',\n",
       "   'content-type': 'application/x-amz-json-1.0',\n",
       "   'content-length': '2',\n",
       "   'connection': 'keep-alive',\n",
       "   'x-amzn-requestid': 'QUGTMS8JBIUV3OEL3LFKR8FD3VVV4KQNSO5AEMVJF66Q9ASUAAJG',\n",
       "   'x-amz-crc32': '2745614147'},\n",
       "  'RetryAttempts': 0}}"
      ]
     },
     "execution_count": 25,
     "metadata": {},
     "output_type": "execute_result"
    }
   ],
   "source": [
    "# Insert our entry in the table\n",
    "table.put_item(\n",
    "   Item=data\n",
    ")"
   ]
  },
  {
   "cell_type": "code",
   "execution_count": 31,
   "metadata": {
    "ExecuteTime": {
     "end_time": "2024-04-25T01:38:13.854761Z",
     "start_time": "2024-04-25T01:38:13.795324Z"
    },
    "hidden": true
   },
   "outputs": [
    {
     "data": {
      "text/plain": [
       "{'Item': {'q1': '5',\n",
       "  'q2': '3',\n",
       "  'user_id': '0001',\n",
       "  'q3': '2',\n",
       "  'q4': '2',\n",
       "  'q5': '4',\n",
       "  'timestamp': '092821120000',\n",
       "  'freetext': 'I had a very bad day today...',\n",
       "  'time_elapsed': '5'},\n",
       " 'ResponseMetadata': {'RequestId': 'TS7OC4SQQRPNN1ELO59CKIEV6VVV4KQNSO5AEMVJF66Q9ASUAAJG',\n",
       "  'HTTPStatusCode': 200,\n",
       "  'HTTPHeaders': {'server': 'Server',\n",
       "   'date': 'Thu, 25 Apr 2024 01:38:12 GMT',\n",
       "   'content-type': 'application/x-amz-json-1.0',\n",
       "   'content-length': '215',\n",
       "   'connection': 'keep-alive',\n",
       "   'x-amzn-requestid': 'TS7OC4SQQRPNN1ELO59CKIEV6VVV4KQNSO5AEMVJF66Q9ASUAAJG',\n",
       "   'x-amz-crc32': '3989283962'},\n",
       "  'RetryAttempts': 0}}"
      ]
     },
     "execution_count": 31,
     "metadata": {},
     "output_type": "execute_result"
    }
   ],
   "source": [
    "# Get our entry from the table\n",
    "response = table.get_item(\n",
    "    Key={\n",
    "        'user_id' : '0001'\n",
    "    }\n",
    ")\n",
    "response"
   ]
  },
  {
   "cell_type": "markdown",
   "metadata": {
    "hidden": true
   },
   "source": [
    "The data we just loaded is in `response['Item']`, along with some HTTP response messages. `HTTPStatusCode = 200` means it was successful, and you may want to look up what these codes mean as a refresher.\n",
    "\n",
    "As before, let's now delete the table."
   ]
  },
  {
   "cell_type": "code",
   "execution_count": 32,
   "metadata": {
    "ExecuteTime": {
     "end_time": "2024-04-25T01:42:50.735585Z",
     "start_time": "2024-04-25T01:42:50.217169Z"
    },
    "hidden": true
   },
   "outputs": [
    {
     "data": {
      "text/plain": [
       "{'TableDescription': {'TableName': 'adam_example_db',\n",
       "  'TableStatus': 'DELETING',\n",
       "  'ProvisionedThroughput': {'NumberOfDecreasesToday': 0,\n",
       "   'ReadCapacityUnits': 1,\n",
       "   'WriteCapacityUnits': 1},\n",
       "  'TableSizeBytes': 0,\n",
       "  'ItemCount': 0,\n",
       "  'TableArn': 'arn:aws:dynamodb:us-east-1:348752177325:table/adam_example_db',\n",
       "  'TableId': '7b346ee6-f729-41fe-a50e-8a0768146d52',\n",
       "  'DeletionProtectionEnabled': False},\n",
       " 'ResponseMetadata': {'RequestId': 'STVJJJT1F8GJO9IBV4FP2E1JM3VV4KQNSO5AEMVJF66Q9ASUAAJG',\n",
       "  'HTTPStatusCode': 200,\n",
       "  'HTTPHeaders': {'server': 'Server',\n",
       "   'date': 'Thu, 25 Apr 2024 01:42:49 GMT',\n",
       "   'content-type': 'application/x-amz-json-1.0',\n",
       "   'content-length': '366',\n",
       "   'connection': 'keep-alive',\n",
       "   'x-amzn-requestid': 'STVJJJT1F8GJO9IBV4FP2E1JM3VV4KQNSO5AEMVJF66Q9ASUAAJG',\n",
       "   'x-amz-crc32': '1675746389'},\n",
       "  'RetryAttempts': 0}}"
      ]
     },
     "execution_count": 32,
     "metadata": {},
     "output_type": "execute_result"
    }
   ],
   "source": [
    "table.delete()"
   ]
  },
  {
   "cell_type": "markdown",
   "metadata": {
    "heading_collapsed": true
   },
   "source": [
    "## Exercise 3: MySQL Databases"
   ]
  },
  {
   "cell_type": "markdown",
   "metadata": {
    "hidden": true
   },
   "source": [
    "Next let's practice traditional relational databases with MySQL on AWS RDS. Unlike DynamoDB, this is hosted on a single EC2 instance."
   ]
  },
  {
   "cell_type": "code",
   "execution_count": 34,
   "metadata": {
    "ExecuteTime": {
     "end_time": "2024-04-25T01:58:34.146261Z",
     "start_time": "2024-04-25T01:58:33.486743Z"
    },
    "hidden": true
   },
   "outputs": [
    {
     "data": {
      "text/plain": [
       "['adam_example_db']"
      ]
     },
     "execution_count": 34,
     "metadata": {},
     "output_type": "execute_result"
    }
   ],
   "source": [
    "# Initialize boto3 handler\n",
    "rds = boto3.client('rds')\n",
    "\n",
    "# Describes your currently active databases\n",
    "DBs = rds.describe_db_instances()['DBInstances']\n",
    "activeDBs = [ x['DBName'] for x in DBs ]\n",
    "activeDBs"
   ]
  },
  {
   "cell_type": "markdown",
   "metadata": {
    "hidden": true
   },
   "source": [
    "*Tip: It can take some time to create the database. When debugging, you might want to just create it once and add some logic like:*"
   ]
  },
  {
   "cell_type": "code",
   "execution_count": 35,
   "metadata": {
    "ExecuteTime": {
     "end_time": "2024-04-25T01:59:38.014540Z",
     "start_time": "2024-04-25T01:59:37.243161Z"
    },
    "hidden": true
   },
   "outputs": [],
   "source": [
    "DB_NAME = 'adam_example_db'\n",
    "INSTANCE_NAME = 'week6_lab'\n",
    "\n",
    "if DB_NAME not in activeDBs:\n",
    "    # Create a new MySQL database on AWS\n",
    "    response = rds.create_db_instance(\n",
    "        DBInstanceIdentifier=INSTANCE_NAME,\n",
    "        DBName=DB_NAME,\n",
    "        MasterUsername='username',\n",
    "        MasterUserPassword='password',\n",
    "        DBInstanceClass='db.t3.micro',   # This specifies the EC2 instance that will run the datbase\n",
    "        Engine='MySQL',\n",
    "        AllocatedStorage=5\n",
    "    )\n",
    "rds.get_waiter('db_instance_available').wait(DBInstanceIdentifier=INSTANCE_NAME)"
   ]
  },
  {
   "cell_type": "markdown",
   "metadata": {
    "hidden": true
   },
   "source": [
    "As Jon mentioned in class, we need to adjust the security settings to be able to connect to it directly using our local machine. Be sure to include this in your assignments for example."
   ]
  },
  {
   "cell_type": "code",
   "execution_count": 36,
   "metadata": {
    "ExecuteTime": {
     "end_time": "2024-04-25T01:59:50.549282Z",
     "start_time": "2024-04-25T01:59:50.304445Z"
    },
    "hidden": true
   },
   "outputs": [
    {
     "name": "stdout",
     "output_type": "stream",
     "text": [
      "relational-db is available at relational-db.cccphtqtenb6.us-east-1.rds.amazonaws.com on Port 3306\n"
     ]
    }
   ],
   "source": [
    "db = rds.describe_db_instances()['DBInstances'][0]\n",
    "ENDPOINT = db['Endpoint']['Address']\n",
    "PORT = db['Endpoint']['Port']\n",
    "DBID = db['DBInstanceIdentifier']\n",
    "\n",
    "print(DBID,\n",
    "      \"is available at\", ENDPOINT,\n",
    "      \"on Port\", PORT,\n",
    "     )"
   ]
  },
  {
   "cell_type": "code",
   "execution_count": 37,
   "metadata": {
    "ExecuteTime": {
     "end_time": "2024-04-25T01:59:55.387283Z",
     "start_time": "2024-04-25T01:59:54.510224Z"
    },
    "hidden": true
   },
   "outputs": [],
   "source": [
    "SGNAME = db['VpcSecurityGroups'][0]['VpcSecurityGroupId']\n",
    "\n",
    "# Adjust security permissions\n",
    "try:\n",
    "    ec2 = boto3.client('ec2')\n",
    "    data = ec2.authorize_security_group_ingress(\n",
    "            GroupId=SGNAME,\n",
    "            IpPermissions=[\n",
    "                {'IpProtocol': 'tcp',\n",
    "                 'FromPort': PORT,\n",
    "                 'ToPort': PORT,\n",
    "                 'IpRanges': [{'CidrIp': '0.0.0.0/0'}]}\n",
    "            ]\n",
    "    )\n",
    "except ec2.exceptions.ClientError as e:\n",
    "    if e.response[\"Error\"][\"Code\"] == 'InvalidPermission.Duplicate':\n",
    "        print(\"Permissions already adjusted.\")\n",
    "    else:\n",
    "        print(e)"
   ]
  },
  {
   "cell_type": "markdown",
   "metadata": {
    "hidden": true
   },
   "source": [
    "Next let's connect to the database, create a new table, and add the example data."
   ]
  },
  {
   "cell_type": "code",
   "execution_count": 38,
   "metadata": {
    "ExecuteTime": {
     "end_time": "2024-04-25T02:01:11.855988Z",
     "start_time": "2024-04-25T02:01:11.050655Z"
    },
    "hidden": true
   },
   "outputs": [],
   "source": [
    "import mysql.connector\n",
    "\n",
    "# Connect to the MySQL database\n",
    "conn =  mysql.connector.connect(host=ENDPOINT, \n",
    "                                user=\"username\", \n",
    "                                passwd=\"password\", \n",
    "                                port=PORT, \n",
    "                                database=DB_NAME)\n",
    "cur = conn.cursor()"
   ]
  },
  {
   "cell_type": "code",
   "execution_count": 39,
   "metadata": {
    "ExecuteTime": {
     "end_time": "2024-04-25T02:07:50.604203Z",
     "start_time": "2024-04-25T02:07:50.507173Z"
    },
    "hidden": true
   },
   "outputs": [],
   "source": [
    "create_table = '''\n",
    "               CREATE TABLE IF NOT EXISTS survey (\n",
    "                   user_id VARCHAR(10),\n",
    "                   timestamp INT,\n",
    "                   time_elapsed INT,\n",
    "                   q1 INT,\n",
    "                   q2 INT,\n",
    "                   q3 INT,\n",
    "                   q4 INT,\n",
    "                   q5 INT,\n",
    "                   freetext TEXT,\n",
    "                   PRIMARY KEY (user_id)\n",
    "               )\n",
    "               '''\n",
    "insert_data  = '''\n",
    "               INSERT INTO survey (user_id, timestamp, time_elapsed, q1, q2, q3, q4, q5, freetext)\n",
    "               VALUES \n",
    "                   ('0001', 092821120000, 5, 5, 3, 2, 2, 4, 'I had a very bad day today...')\n",
    "               '''\n",
    "\n",
    "for op in [create_table, insert_data]:\n",
    "    cur.execute(op)"
   ]
  },
  {
   "cell_type": "code",
   "execution_count": 40,
   "metadata": {
    "ExecuteTime": {
     "end_time": "2024-04-25T02:08:05.732874Z",
     "start_time": "2024-04-25T02:08:05.688084Z"
    },
    "hidden": true
   },
   "outputs": [
    {
     "name": "stdout",
     "output_type": "stream",
     "text": [
      "[('0001', 2147483647, 5, 5, 3, 2, 2, 4, 'I had a very bad day today...')]\n"
     ]
    }
   ],
   "source": [
    "# Query the table\n",
    "cur.execute('SELECT * FROM survey')\n",
    "query_results = cur.fetchall()\n",
    "print(query_results)"
   ]
  },
  {
   "cell_type": "markdown",
   "metadata": {
    "hidden": true
   },
   "source": [
    "**Note: Since this runs on an EC2 instance, you should terminate it when you are done. This can be done by simply deleting the database.**"
   ]
  },
  {
   "cell_type": "code",
   "execution_count": 42,
   "metadata": {
    "ExecuteTime": {
     "end_time": "2024-04-25T02:10:13.863290Z",
     "start_time": "2024-04-25T02:10:13.088287Z"
    },
    "hidden": true
   },
   "outputs": [
    {
     "data": {
      "text/plain": [
       "200"
      ]
     },
     "execution_count": 42,
     "metadata": {},
     "output_type": "execute_result"
    }
   ],
   "source": [
    "response = rds.delete_db_instance(DBInstanceIdentifier=INSTANCE_NAME,\n",
    "                                     SkipFinalSnapshot=True\n",
    "                                    )\n",
    "status_db = response.get('ResponseMetadata').get('HTTPStatusCode')\n",
    "status_db"
   ]
  },
  {
   "cell_type": "markdown",
   "metadata": {},
   "source": [
    "# Part II: Assignment 2 Walkthrough"
   ]
  },
  {
   "cell_type": "markdown",
   "metadata": {
    "heading_collapsed": true
   },
   "source": [
    "## Exercise 4: MySQL with Books"
   ]
  },
  {
   "cell_type": "markdown",
   "metadata": {
    "hidden": true
   },
   "source": [
    "Now it's your turn. In `data/3_examplebook.json`, this is a sample of the data structure of a single book that you will scrape in Q2 in Assignment 2. \n",
    "\n",
    "Try to create a MySQL database, define the table based on this data structure, and insert it into the table. Work in groups if you are stuck."
   ]
  },
  {
   "cell_type": "code",
   "execution_count": null,
   "metadata": {
    "hidden": true
   },
   "outputs": [],
   "source": [
    "rds = boto3.client('rds')\n",
    "\n",
    "## [TASK] Your code here"
   ]
  },
  {
   "cell_type": "markdown",
   "metadata": {
    "heading_collapsed": true
   },
   "source": [
    "## Exercise 5: Lambda with Books"
   ]
  },
  {
   "cell_type": "markdown",
   "metadata": {
    "hidden": true
   },
   "source": [
    "Now try writing a Lambda function which scrapes a batch of book pages, and inserts it into the database you just created.\n",
    "\n",
    "Hint: Consult the serial code [here](https://github.com/Apress/practical-web-scraping-for-data-science/blob/master/books-to-scrape/scraper.py)."
   ]
  },
  {
   "cell_type": "code",
   "execution_count": null,
   "metadata": {
    "hidden": true
   },
   "outputs": [],
   "source": [
    "import dataset"
   ]
  },
  {
   "cell_type": "code",
   "execution_count": null,
   "metadata": {
    "hidden": true
   },
   "outputs": [],
   "source": [
    "event = [\n",
    "    {\n",
    "        'book_id' : 'a-light-in-the-attic_1000',\n",
    "        'book_url' : 'http://books.toscrape.com/catalogue/a-light-in-the-attic_1000/'\n",
    "    },\n",
    "    {\n",
    "        'book_id' : 'tipping-the-velvet_999',\n",
    "        'book_url' : 'http://books.toscrape.com/catalogue/tipping-the-velvet_999/'\n",
    "    }\n",
    "]\n",
    "\n",
    "def lambda_handler(event, context):\n",
    "    \"\"\"\n",
    "    Task: Given an input `event`, which contains `book_id` and `book_url`,\n",
    "          scrape the relevant url and insert it into the database you just created.\n",
    "    \"\"\"\n",
    "    \n",
    "    # Connect to your MySQL Database from Exercise 4\n",
    "    db_url = f'mysql+mysqlconnector://{DB_USERNAME}:{DB_PASSWORD}@{ENDPOINT}:{PORT}/{DB_NAME}'\n",
    "    db = dataset.connect(db_url)\n",
    "    \n",
    "    ## [TASK] Your code here\n",
    "    batch_of_books_to_scrape = event\n",
    "    \n",
    "    return\n",
    "    \n",
    "lambda_handler(event=event, context=None)"
   ]
  },
  {
   "cell_type": "markdown",
   "metadata": {
    "hidden": true
   },
   "source": [
    "After the code is working, zip it up in the provided `q2_deployment_package.zip` (on Canvas) and deploy it with boto3."
   ]
  },
  {
   "cell_type": "code",
   "execution_count": null,
   "metadata": {
    "hidden": true
   },
   "outputs": [],
   "source": [
    "lamb = boto3.client('lambda')\n",
    "\n",
    "## [TASK] Your code here"
   ]
  },
  {
   "cell_type": "markdown",
   "metadata": {
    "heading_collapsed": true
   },
   "source": [
    "## Exercise 6: SQS"
   ]
  },
  {
   "cell_type": "markdown",
   "metadata": {
    "hidden": true
   },
   "source": [
    "A simple way to orchestrate your compute jobs is with AWS SQS (Simple Queue Service). \n",
    "\n",
    "In this exercise:\n",
    " 1. Create an SQS queue using boto3 \n",
    " 2. Configure it to trigger your Lambda function from Exercise 5\n",
    " 3. Send `event1` and `event2` into the queue\n",
    " \n",
    "Afterwards, check your MySQL database from Exercise 4 and see if everything is working as expected.\n",
    "\n",
    "*Note: When you send a job to Lambda using SQS, the `event` input contains some metadata. You should now modify your Lambda function to parse inputs with:*\n",
    "\n",
    "`batch_of_books_to_scrape = json.loads(event['Records'][0]['body'])`"
   ]
  },
  {
   "cell_type": "code",
   "execution_count": null,
   "metadata": {
    "hidden": true
   },
   "outputs": [],
   "source": [
    "event1 = [\n",
    "    {\n",
    "        'book_id' : 'a-light-in-the-attic_1000',\n",
    "        'book_url' : 'http://books.toscrape.com/catalogue/a-light-in-the-attic_1000/'\n",
    "    },\n",
    "    {\n",
    "        'book_id' : 'tipping-the-velvet_999',\n",
    "        'book_url' : 'http://books.toscrape.com/catalogue/tipping-the-velvet_999/'\n",
    "    }\n",
    "]\n",
    "\n",
    "event2 = [\n",
    "    {\n",
    "        'book_id' : 'Soumission',\n",
    "        'book_url' : 'http://books.toscrape.com/catalogue/soumission_998/'\n",
    "    },\n",
    "    {\n",
    "        'book_id' : 'sharp-objects_997',\n",
    "        'book_url' : 'http://books.toscrape.com/catalogue/sharp-objects_997/'\n",
    "    }\n",
    "]"
   ]
  },
  {
   "cell_type": "code",
   "execution_count": null,
   "metadata": {
    "hidden": true
   },
   "outputs": [],
   "source": [
    "sqs = boto3.client('sqs')\n",
    "\n",
    "## [TASK] Your code here"
   ]
  },
  {
   "cell_type": "markdown",
   "metadata": {},
   "source": [
    "## Putting it all together"
   ]
  },
  {
   "cell_type": "markdown",
   "metadata": {},
   "source": [
    "Read the Assignment 2 instructions carefully, and start thinking about how to approach it. If you are unsure how to start, try to break it down into steps and sketch it out on a piece of paper. \n",
    "\n",
    "For example:\n",
    "1. First I will create some databases...\n",
    "2. Then I will write a Lambda function that takes input `event` and does something...\n",
    "3. In order to get `event`, I need to first get a list of book urls...\n",
    "4. And so on"
   ]
  }
 ],
 "metadata": {
  "kernelspec": {
   "display_name": "Python 3 (ipykernel)",
   "language": "python",
   "name": "python3"
  },
  "language_info": {
   "codemirror_mode": {
    "name": "ipython",
    "version": 3
   },
   "file_extension": ".py",
   "mimetype": "text/x-python",
   "name": "python",
   "nbconvert_exporter": "python",
   "pygments_lexer": "ipython3",
   "version": "3.9.16"
  },
  "varInspector": {
   "cols": {
    "lenName": 16,
    "lenType": 16,
    "lenVar": 40
   },
   "kernels_config": {
    "python": {
     "delete_cmd_postfix": "",
     "delete_cmd_prefix": "del ",
     "library": "var_list.py",
     "varRefreshCmd": "print(var_dic_list())"
    },
    "r": {
     "delete_cmd_postfix": ") ",
     "delete_cmd_prefix": "rm(",
     "library": "var_list.r",
     "varRefreshCmd": "cat(var_dic_list()) "
    }
   },
   "types_to_exclude": [
    "module",
    "function",
    "builtin_function_or_method",
    "instance",
    "_Feature"
   ],
   "window_display": false
  }
 },
 "nbformat": 4,
 "nbformat_minor": 2
}
